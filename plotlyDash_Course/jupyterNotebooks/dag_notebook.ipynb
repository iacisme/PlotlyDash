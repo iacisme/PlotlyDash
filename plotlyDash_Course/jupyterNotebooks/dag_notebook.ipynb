{
 "cells": [
  {
   "cell_type": "markdown",
   "id": "aafaac6b-aaa6-44f6-91e1-8488103add40",
   "metadata": {},
   "source": [
    "# Required Libraries"
   ]
  },
  {
   "cell_type": "code",
   "execution_count": null,
   "id": "ad707410-da19-41ed-8cb8-6dd3c05d322c",
   "metadata": {},
   "outputs": [],
   "source": [
    "from dash import Dash, jupyter_dash, html, dcc, Output, Input"
   ]
  },
  {
   "cell_type": "code",
   "execution_count": null,
   "id": "55918844-074e-443f-86c2-8b32c9804d02",
   "metadata": {},
   "outputs": [],
   "source": [
    "import dash_ag_grid as dag"
   ]
  },
  {
   "cell_type": "code",
   "execution_count": null,
   "id": "eefe3eb9-a0b0-4317-8263-d9be0240c00d",
   "metadata": {},
   "outputs": [],
   "source": [
    "import pandas as pd"
   ]
  },
  {
   "cell_type": "markdown",
   "id": "6957a8ad-4eda-4a4c-ab08-00853aa2dd24",
   "metadata": {},
   "source": [
    "# Read CSV"
   ]
  },
  {
   "cell_type": "code",
   "execution_count": null,
   "id": "f5b2e523-271b-403a-a96e-e7c85df9ee60",
   "metadata": {},
   "outputs": [],
   "source": [
    "# Create a dataset by reading raw content from a github repo\n",
    "# To get more info on this data go to: https://github.com/plotly/datasets/blob/master/Dash-Course/makeup-shades/README-shades.md\n",
    "df = pd.read_csv('https://raw.githubusercontent.com/plotly/datasets/master/Dash-Course/makeup-shades/shades.csv')"
   ]
  },
  {
   "cell_type": "markdown",
   "id": "81e66933-e347-43a2-b735-ab87ad453b5d",
   "metadata": {},
   "source": [
    "# DCC\n",
    "\n",
    "## DropDowns"
   ]
  },
  {
   "cell_type": "code",
   "execution_count": null,
   "id": "d931b81a-d50e-49d1-8490-96803b822f48",
   "metadata": {},
   "outputs": [],
   "source": [
    "# Create a list\n",
    "dropDownList = df['brand'].unique().tolist()"
   ]
  },
  {
   "cell_type": "code",
   "execution_count": null,
   "id": "44ba6afd-e8b5-4536-ab3f-e0054ccd08de",
   "metadata": {},
   "outputs": [],
   "source": [
    "dropDownList.insert(0, None)\n",
    "\n",
    "dropDownList"
   ]
  },
  {
   "cell_type": "code",
   "execution_count": null,
   "id": "ebab0e26-aa7b-466c-967e-68a4316f251e",
   "metadata": {},
   "outputs": [],
   "source": [
    "print(dropDownList[0])"
   ]
  },
  {
   "cell_type": "code",
   "execution_count": null,
   "id": "d9d08a28-be9e-47d0-b1a4-5ab31dc18bba",
   "metadata": {},
   "outputs": [],
   "source": [
    "brandDropDown = dcc.Dropdown(options = [dropDownList], value = None, id = \"brandDropDown\")"
   ]
  },
  {
   "cell_type": "markdown",
   "id": "9eb1b60c-ae90-412c-8450-1bb0c039ead1",
   "metadata": {},
   "source": [
    "## dash_ag_grid"
   ]
  },
  {
   "cell_type": "code",
   "execution_count": null,
   "id": "2957013d-f604-4aa0-ae0c-9d1be7fb0e6e",
   "metadata": {},
   "outputs": [],
   "source": [
    "grid = dag.AgGrid(\n",
    "    id = \"display-grid\",\n",
    "    rowData = displayData.to_dict(\"records\"),\n",
    "    columnDefs = [{\"field\" : i} for i in displayData.columns]\n",
    ")"
   ]
  },
  {
   "cell_type": "markdown",
   "id": "920bcae1-bb91-4bfa-9194-2e1a5e9367e8",
   "metadata": {},
   "source": [
    "# Create the app object"
   ]
  },
  {
   "cell_type": "code",
   "execution_count": null,
   "id": "63b30258-031a-4752-8374-32f0806a3d34",
   "metadata": {},
   "outputs": [],
   "source": [
    "app = Dash(__name__)"
   ]
  },
  {
   "cell_type": "code",
   "execution_count": null,
   "id": "830855e2-751a-47e0-92ca-aaf201760d15",
   "metadata": {},
   "outputs": [],
   "source": [
    "app.layout = html.Div([\n",
    "    brandDropDown,\n",
    "    html.Div(id = \"display-grid\")\n",
    "])"
   ]
  },
  {
   "cell_type": "markdown",
   "id": "11fb25b2-151e-4bfe-9f9e-7274fa76842e",
   "metadata": {},
   "source": [
    "# App Callbacks"
   ]
  },
  {
   "cell_type": "code",
   "execution_count": null,
   "id": "71a4d56a-c784-49a5-ab87-ce8a0bab102f",
   "metadata": {},
   "outputs": [],
   "source": [
    "@app.callback(\n",
    "    Output(component_id = \"display-grid\", component_property = \"data\"),\n",
    "    Input(component_id = \"brandDropDrown\", component_property = \"value\")\n",
    ")\n",
    "def displayGridData(value):\n",
    "    if dataSelector.value is not None:\n",
    "        displayData = dataframe[dataframe['brand'] == dataSelector.value]\n",
    "    else:\n",
    "        displayData = df.copy()\n",
    "\n",
    "    gridData = dag.AgGrid(\n",
    "        id = \"display-grid\",\n",
    "        rowData = displayData.to_dict(\"records\"),\n",
    "        columnDefs = [{\"field\" : i} for i in displayData.columns]\n",
    "    )\n",
    "        \n",
    "    return gridData"
   ]
  },
  {
   "cell_type": "markdown",
   "id": "ef129244-bc30-4d1a-a192-2c0814ad6498",
   "metadata": {},
   "source": [
    "# Run the App"
   ]
  },
  {
   "cell_type": "code",
   "execution_count": null,
   "id": "8d3654e5-f48c-4129-a205-88f981a9f20c",
   "metadata": {},
   "outputs": [],
   "source": [
    "if __name__ == \"__main__\":\n",
    "    app.run(jupyter_mode = \"external\",\n",
    "            degub = True,\n",
    "            port  = 8051\n",
    "           )"
   ]
  },
  {
   "cell_type": "code",
   "execution_count": null,
   "id": "6e71a94b-71b4-4e43-b1d6-5e31ff2058a0",
   "metadata": {},
   "outputs": [],
   "source": [
    "df.c"
   ]
  }
 ],
 "metadata": {
  "kernelspec": {
   "display_name": "Python 3 (ipykernel)",
   "language": "python",
   "name": "python3"
  },
  "language_info": {
   "codemirror_mode": {
    "name": "ipython",
    "version": 3
   },
   "file_extension": ".py",
   "mimetype": "text/x-python",
   "name": "python",
   "nbconvert_exporter": "python",
   "pygments_lexer": "ipython3",
   "version": "3.11.5"
  }
 },
 "nbformat": 4,
 "nbformat_minor": 5
}
